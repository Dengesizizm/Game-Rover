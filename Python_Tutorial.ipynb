{
  "nbformat": 4,
  "nbformat_minor": 0,
  "metadata": {
    "colab": {
      "name": "Python Tutorial.ipynb",
      "provenance": [],
      "collapsed_sections": [],
      "authorship_tag": "ABX9TyO3NLBPWn0ID0/sJThm2iCl",
      "include_colab_link": true
    },
    "kernelspec": {
      "name": "python3",
      "display_name": "Python 3"
    }
  },
  "cells": [
    {
      "cell_type": "markdown",
      "metadata": {
        "id": "view-in-github",
        "colab_type": "text"
      },
      "source": [
        "<a href=\"https://colab.research.google.com/github/ardaozarslan/Game-Rover/blob/master/Python_Tutorial.ipynb\" target=\"_parent\"><img src=\"https://colab.research.google.com/assets/colab-badge.svg\" alt=\"Open In Colab\"/></a>"
      ]
    },
    {
      "cell_type": "markdown",
      "metadata": {
        "id": "pBoD9B2qDjYI"
      },
      "source": [
        "&nbsp;&nbsp;&nbsp;Merhaba arkadaşlar. Ben Arda Özarslan, METU ROVER projesinin takım lideriyim. Bu dönem Kodlama (I) eğitimini ben veriyor olacağım. Eğitimde ise beraber Python ile bir oyun kodlayacağız. Ancak süremiz kısıtlı olacağı için öncesinde temel Python bilgisi oluşturmak amacıyla bu Colab defterini hazırladım.\n",
        "\n",
        "&nbsp;&nbsp;&nbsp;<font color=\"red\">Sayfada ilerledikçe bu görseldeki gibi kod blokları sol tarafında bulunan oynatma tuşuyla çalıştırabilirsiniz. Birçok yerde içinde yazan kodları değiştirip neler yapabildiğinizi görmenizi isteyeceğim. Bunun dışında tabi ki istediğiniz gibi değiştirip farklı şeyler de deneyebilirsiniz. Ancak eğitimde yapacaklarımızı takip edebilmeniz için benim bu defterde önerdiklerimi takip etmeniz yeterli olacaktır.</font>\n",
        "\n",
        "</br>&nbsp;&nbsp;&nbsp;Biraz takıntılıyım, kusuruma bakmayın ancak Python'ın okunuşu ile başlamak istiyorum. <a href=\"https://dictionary.cambridge.org/tr/s%C3%B6zl%C3%BCk/ingilizce-t%C3%BCrk%C3%A7e/python\">Şu linkten</a> doğru telaffuzuna bakabilirsiniz :D. Kendi aranızda istediğiniz gibi telaffuz edebilirsiniz ancak bana lütfen \"Payton\" demeyin :D."
      ]
    },
    {
      "cell_type": "markdown",
      "metadata": {
        "id": "Vc9UqCBzaO3c"
      },
      "source": [
        "# Kodlayarak neler yapablirim?\n",
        "\n",
        "&nbsp;&nbsp;&nbsp;Öncelikle bundan bahsedelim biraz. Birkaç örnek vermek gerekirse; sıkça tekrarladığınız işlemleri hızlıca gerçekleştirmek, bir araca çizgiyi takip etmesini sağlamak, oyun yapmak, bir görseldeki spesifik objeleri tespit etmek diyebiliriz."
      ]
    },
    {
      "cell_type": "markdown",
      "metadata": {
        "id": "GGtT_bXlcgEw"
      },
      "source": [
        "# Ben kodlayabilir miyim?\n",
        "\n",
        "&nbsp;&nbsp;&nbsp;Peki yukarıda saydığım örnekleri uygulamak çok zor mu? Saydığım örneklerden kimisi kolaylıkla öğrenip uygulanabilecek pratikler olsa da kimisi ise biraz daha deneyim isteyebiliyor. Ama bir yerden başlamak lazım değil mi? Burada size göstereceğim temel Python bilgileri ile kodlama serüveninize ilk adımlarınızı atmış olacaksınız. Belki de aranızda bunları zaten bilenler olabilir, ama tekrar etmekten de bir zarar gelmez. :)"
      ]
    },
    {
      "cell_type": "markdown",
      "metadata": {
        "id": "_2OAgV10dKga"
      },
      "source": [
        "# Hazırsanız başlayalım!\n",
        "\n",
        "&nbsp;&nbsp;&nbsp;Öncelikle ufak bir bilgilendirme yapmak istiyorum. Bu defterde ve verecek olduğum Kodlama (I) eğitiminde birçok terimi İngilizce kullanacağım. Burada kullanacağım bu tür kelimeleri ise ***kalın ve italik*** harflerle yazacağım. Bunun sebebi ise İnternet üzerinde kaynak araştırması yapacağınız zaman Türkçe 1 kaynak bulabiliyorsanız İngilizce 30 kaynak bulabilirsiniz. Size tavsiyem; eğer ki araştırmalarınızı İngilizce yapmaya henüz başlamadıysanız artık başlamanız. Çünkü üniversite hayatınız boyunca çokça lazım olacak ve bu alışkanlığı bir an önce kazanmanız sizin yararınıza olacaktır.\n",
        "\n",
        "</br>&nbsp;&nbsp;&nbsp;Her kodlama dilinde olduğu gibi yazacağımız/yazdığımız programların bilgileri bir şekilde hafızada tutmaları gerekir. Bu bilgileri hafızada tutmaları için de birçok çeşit ***data type*** bulunur. Python'un güzelliği ise "
      ]
    },
    {
      "cell_type": "code",
      "metadata": {
        "id": "MQ0EiepPDXVB"
      },
      "source": [
        ""
      ],
      "execution_count": null,
      "outputs": []
    }
  ]
}